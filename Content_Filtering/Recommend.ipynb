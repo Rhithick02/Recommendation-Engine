{
 "cells": [
  {
   "cell_type": "code",
   "execution_count": 7,
   "metadata": {},
   "outputs": [],
   "source": [
    "import pandas as pd\n",
    "import numpy as np\n",
    "from tmdbv3api import Movie, TMDb\n",
    "import json\n",
    "import requests\n",
    "import urllib.request, urllib.parse, urllib.error\n",
    "from bs4 import BeautifulSoup\n",
    "import ssl"
   ]
  },
  {
   "cell_type": "code",
   "execution_count": 2,
   "metadata": {},
   "outputs": [
    {
     "data": {
      "text/html": [
       "<div>\n",
       "<style scoped>\n",
       "    .dataframe tbody tr th:only-of-type {\n",
       "        vertical-align: middle;\n",
       "    }\n",
       "\n",
       "    .dataframe tbody tr th {\n",
       "        vertical-align: top;\n",
       "    }\n",
       "\n",
       "    .dataframe thead th {\n",
       "        text-align: right;\n",
       "    }\n",
       "</style>\n",
       "<table border=\"1\" class=\"dataframe\">\n",
       "  <thead>\n",
       "    <tr style=\"text-align: right;\">\n",
       "      <th></th>\n",
       "      <th>movie_title</th>\n",
       "      <th>recommend</th>\n",
       "    </tr>\n",
       "  </thead>\n",
       "  <tbody>\n",
       "    <tr>\n",
       "      <th>0</th>\n",
       "      <td>avatar</td>\n",
       "      <td>['aliens', 'star trek into darkness', 'wing co...</td>\n",
       "    </tr>\n",
       "    <tr>\n",
       "      <th>1</th>\n",
       "      <td>pirates of the caribbean: at world's end</td>\n",
       "      <td>[\"pirates of the caribbean: dead man's chest\",...</td>\n",
       "    </tr>\n",
       "    <tr>\n",
       "      <th>2</th>\n",
       "      <td>spectre</td>\n",
       "      <td>['skyfall', 'quantum of solace', 'iboy', 'die ...</td>\n",
       "    </tr>\n",
       "    <tr>\n",
       "      <th>3</th>\n",
       "      <td>the dark knight rises</td>\n",
       "      <td>['the dark knight', 'batman begins', 'inceptio...</td>\n",
       "    </tr>\n",
       "    <tr>\n",
       "      <th>4</th>\n",
       "      <td>john carter</td>\n",
       "      <td>['spy kids: all the time in the world in 4d', ...</td>\n",
       "    </tr>\n",
       "    <tr>\n",
       "      <th>...</th>\n",
       "      <td>...</td>\n",
       "      <td>...</td>\n",
       "    </tr>\n",
       "    <tr>\n",
       "      <th>5830</th>\n",
       "      <td>little women</td>\n",
       "      <td>['howards end', 'the beguiled', 'oscar and luc...</td>\n",
       "    </tr>\n",
       "    <tr>\n",
       "      <th>5831</th>\n",
       "      <td>1917</td>\n",
       "      <td>['joyeux noel', 'shadow conspiracy', 'green zo...</td>\n",
       "    </tr>\n",
       "    <tr>\n",
       "      <th>5832</th>\n",
       "      <td>just mercy</td>\n",
       "      <td>['the glass castle', 'on the basis of sex', \"w...</td>\n",
       "    </tr>\n",
       "    <tr>\n",
       "      <th>5833</th>\n",
       "      <td>clemency</td>\n",
       "      <td>['take the lead', 'burning sands', 'love &amp; bas...</td>\n",
       "    </tr>\n",
       "    <tr>\n",
       "      <th>5834</th>\n",
       "      <td>apparition</td>\n",
       "      <td>['the apparition', '2:13', 'what lies beneath'...</td>\n",
       "    </tr>\n",
       "  </tbody>\n",
       "</table>\n",
       "<p>5835 rows × 2 columns</p>\n",
       "</div>"
      ],
      "text/plain": [
       "                                   movie_title  \\\n",
       "0                                       avatar   \n",
       "1     pirates of the caribbean: at world's end   \n",
       "2                                      spectre   \n",
       "3                        the dark knight rises   \n",
       "4                                  john carter   \n",
       "...                                        ...   \n",
       "5830                              little women   \n",
       "5831                                      1917   \n",
       "5832                                just mercy   \n",
       "5833                                  clemency   \n",
       "5834                                apparition   \n",
       "\n",
       "                                              recommend  \n",
       "0     ['aliens', 'star trek into darkness', 'wing co...  \n",
       "1     [\"pirates of the caribbean: dead man's chest\",...  \n",
       "2     ['skyfall', 'quantum of solace', 'iboy', 'die ...  \n",
       "3     ['the dark knight', 'batman begins', 'inceptio...  \n",
       "4     ['spy kids: all the time in the world in 4d', ...  \n",
       "...                                                 ...  \n",
       "5830  ['howards end', 'the beguiled', 'oscar and luc...  \n",
       "5831  ['joyeux noel', 'shadow conspiracy', 'green zo...  \n",
       "5832  ['the glass castle', 'on the basis of sex', \"w...  \n",
       "5833  ['take the lead', 'burning sands', 'love & bas...  \n",
       "5834  ['the apparition', '2:13', 'what lies beneath'...  \n",
       "\n",
       "[5835 rows x 2 columns]"
      ]
     },
     "execution_count": 2,
     "metadata": {},
     "output_type": "execute_result"
    }
   ],
   "source": [
    "df = pd.read_csv('recommend.csv')\n",
    "df"
   ]
  },
  {
   "cell_type": "code",
   "execution_count": 8,
   "metadata": {},
   "outputs": [],
   "source": [
    "tmdb = TMDb()\n",
    "tmdb.api_key = 'deb477a3c3471f6e4e39aff4352f0806'\n",
    "tmdb_movie = Movie()"
   ]
  },
  {
   "cell_type": "code",
   "execution_count": 15,
   "metadata": {},
   "outputs": [],
   "source": [
    "url = \"https://image.tmdb.org/t/p/original\"\n",
    "def scrape(x):\n",
    "    li = []\n",
    "    result = tmdb_movie.search(x)\n",
    "    m_id = result[0].id\n",
    "    response = requests.get('https://api.themoviedb.org/3/movie/{}?api_key={}'.format(m_id, tmdb.api_key))\n",
    "    data_json = response.json()\n",
    "    print(url + str(data_json['poster_path']))"
   ]
  },
  {
   "cell_type": "code",
   "execution_count": 16,
   "metadata": {},
   "outputs": [
    {
     "name": "stdout",
     "output_type": "stream",
     "text": [
      "https://image.tmdb.org/t/p/original/78lPtwv72eTNqFW9COBYI0dWDJa.jpg\n"
     ]
    }
   ],
   "source": [
    "scrape('iron man')"
   ]
  },
  {
   "cell_type": "code",
   "execution_count": null,
   "metadata": {},
   "outputs": [],
   "source": []
  }
 ],
 "metadata": {
  "kernelspec": {
   "display_name": "Python 3",
   "language": "python",
   "name": "python3"
  },
  "language_info": {
   "codemirror_mode": {
    "name": "ipython",
    "version": 3
   },
   "file_extension": ".py",
   "mimetype": "text/x-python",
   "name": "python",
   "nbconvert_exporter": "python",
   "pygments_lexer": "ipython3",
   "version": "3.6.9"
  }
 },
 "nbformat": 4,
 "nbformat_minor": 4
}
